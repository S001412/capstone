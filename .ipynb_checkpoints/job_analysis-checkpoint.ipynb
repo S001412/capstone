{
 "cells": [
  {
   "cell_type": "markdown",
   "metadata": {},
   "source": [
    "# Data Analysis Lagou"
   ]
  },
  {
   "cell_type": "markdown",
   "metadata": {},
   "source": [
    "## Get data from lagou"
   ]
  },
  {
   "cell_type": "code",
   "execution_count": 1,
   "metadata": {},
   "outputs": [],
   "source": [
    "import time\n",
    "import pandas\n",
    "import requests"
   ]
  },
  {
   "cell_type": "markdown",
   "metadata": {},
   "source": [
    "#### get target position data"
   ]
  },
  {
   "cell_type": "code",
   "execution_count": 2,
   "metadata": {},
   "outputs": [],
   "source": [
    "def getGoalData(data):\n",
    "    for i in range(15):  # 每页默认15个职位\n",
    "        info = {\n",
    "            'positionName': data[i]['positionName'],  # 职位简称\n",
    "            'companyShortName': data[i]['companyShortName'],  # 平台简称\n",
    "            'salary': data[i]['salary'],  # 职位薪水\n",
    "            'createTime': data[i]['createTime'],  # 发布时间\n",
    "            'companyId': data[i]['companyId'],  # 公司ID\n",
    "            'companyFullName': data[i]['companyFullName'],  # 公司全称\n",
    "            'companyLabelList': data[i]['companyLabelList'],  # 公司规模\n",
    "            'financeStage': data[i]['financeStage'],  # 融资情况\n",
    "            'positionLables': data[i]['positionLables'],  # 所在行业\n",
    "            'skillLables': data[i]['skillLables'],\n",
    "            'education': data[i]['education'],  # 教育背景\n",
    "            'district': data[i]['district'],  # 公司所在区域\n",
    "            'workYear': data[i]['workYear']  # 区域详细地\n",
    "        }\n",
    "        data[i] = info\n",
    "    return data"
   ]
  },
  {
   "cell_type": "markdown",
   "metadata": {},
   "source": [
    "#### save data as csv file"
   ]
  },
  {
   "cell_type": "code",
   "execution_count": 3,
   "metadata": {},
   "outputs": [],
   "source": [
    "def saveData(data):\n",
    "    table = pandas.DataFrame(data)\n",
    "    table.to_csv('LaGou1.csv', index=False, mode='a+')"
   ]
  },
  {
   "cell_type": "markdown",
   "metadata": {},
   "source": [
    "#### constant definition"
   ]
  },
  {
   "cell_type": "code",
   "execution_count": 4,
   "metadata": {},
   "outputs": [],
   "source": [
    "header = {\n",
    "    'Accept': 'application/json, text/javascript, */*; q=0.01',\n",
    "    'Referer': 'https://www.lagou.com/jobs/list_%E6%95%B0%E6%8D%AE%E6%8C%96%E6%8E%98/p-city_3?&cl=false&fromSearch=true&labelWords=&suginput=',\n",
    "    'User-Agent': 'Mozilla/5.0 (Windows NT 10.0; Win64; x64) AppleWebKit/537.36 (KHTML, like Gecko) Chrome/78.0.3904.108 Safari/537.36',\n",
    "    'Host': 'www.lagou.com'}\n",
    "\n",
    "url1 = 'https://www.lagou.com/jobs/list_%E6%95%B0%E6%8D%AE%E6%8C%96%E6%8E%98?labelWords=&fromSearch=true&suginput='\n",
    "url = 'https://www.lagou.com/jobs/positionAjax.json?city=%E4%B8%8A%E6%B5%B7&needAddtionalResult=false'\n",
    "pages = 26"
   ]
  },
  {
   "cell_type": "code",
   "execution_count": null,
   "metadata": {},
   "outputs": [],
   "source": [
    "for page in range(1, pages):\n",
    "    form = {\n",
    "        'first': 'false',\n",
    "        'pn': page,\n",
    "        'kd': '数据挖掘'\n",
    "    }\n",
    "    s = requests.Session()  # 建立session\n",
    "    s.get(url=url1, headers=header, timeout=3)\n",
    "    cookie = s.cookies  # 获取cookie\n",
    "    respon = s.post(url=url, headers=header, data=form, cookies=cookie, timeout=3)\n",
    "    time.sleep(8)\n",
    "    result = respon.json()\n",
    "    data = result['content']['positionResult']['result']  # 返回结果在preview中的具体返回值\n",
    "    data_goal = getGoalData(data)\n",
    "    saveData(data_goal)"
   ]
  },
  {
   "cell_type": "markdown",
   "metadata": {},
   "source": [
    "#### read the csv file and analyse"
   ]
  },
  {
   "cell_type": "code",
   "execution_count": null,
   "metadata": {},
   "outputs": [],
   "source": [
    "import jieba.analyse\n",
    "import pandas as pd\n",
    "from pyecharts import Geo\n",
    "from pyecharts import Pie\n",
    "from pyecharts import WordCloud\n",
    "from pyecharts import Funnel\n",
    "from pyecharts import Bar"
   ]
  },
  {
   "cell_type": "code",
   "execution_count": null,
   "metadata": {},
   "outputs": [],
   "source": [
    "data = pd.read_csv('LaGou1.csv')  # 读取数据\n",
    "data.head()"
   ]
  },
  {
   "cell_type": "code",
   "execution_count": null,
   "metadata": {},
   "outputs": [],
   "source": [
    "# 去除实习岗位和地区为空的岗位\n",
    "data = data[~data['positionName'].str.contains('intern|实习|产品')]\n",
    "data = data[~data['district'].isnull()]\n",
    "data = data[~data['district'].str.contains('district')]\n",
    "data = data.reset_index(drop=True)\n",
    "data.head()"
   ]
  },
  {
   "cell_type": "markdown",
   "metadata": {},
   "source": [
    "#### draw the heat map of job distribution in Shanghai and data mining"
   ]
  },
  {
   "cell_type": "code",
   "execution_count": null,
   "metadata": {},
   "outputs": [],
   "source": [
    "get_district = data.groupby(['district']).count()['positionName'].index.tolist()\n",
    "count_district = data.groupby(['district']).count()['positionName'].tolist()\n",
    "get_district = get_district + ['松江区', '奉贤区', '金山区']\n",
    "count_district = count_district + ['0', '1', '1']\n",
    "geo = Geo(\"上海地区’数据挖掘‘职位分布热力图\", \"data from lagou\", title_color=\"#fff\", title_pos=\"left\",\n",
    "          width=1200, height=600,\n",
    "          background_color='#404a59')\n",
    "geo.add(\"职位分布热力图\", get_district, count_district, visual_range=[0, 200], type='effectScatter',\n",
    "        visual_text_color=\"#fff\", symbol_size=15,\n",
    "        is_visualmap=True, is_roam=True, maptype=\"上海\")  # type有scatter, effectScatter, heatmap三种模式可选，可根据自己的需求选择对应的图表模式\n",
    "geo.render(path=\"上海地区’数据挖掘‘职位分布热力图.html\")\n",
    "geo"
   ]
  },
  {
   "cell_type": "markdown",
   "metadata": {},
   "source": [
    "#### Draw the data mining education pie chart in Shanghai"
   ]
  },
  {
   "cell_type": "code",
   "execution_count": null,
   "metadata": {},
   "outputs": [],
   "source": [
    "get_salary = data.groupby(['salary']).count()['positionName'].index.tolist()\n",
    "count_salary = data.groupby(['salary']).count()['positionName'].tolist()\n",
    "get_workYear = data.groupby(['workYear']).count()['positionName'].index.tolist()\n",
    "count_workYear = data.groupby(['workYear']).count()['positionName'].tolist()\n",
    "pie_salary = Pie(\"上海数据挖掘薪酬统计\", title_pos='left',width=800, height=620)\n",
    "pie_salary.add(\"\", get_salary, count_salary, center=[60, 50], radius=[40, 55], label_text_color=None,\n",
    "        is_label_show=True, legend_orient='vertical',\n",
    "        legend_pos='left',legend_text_size= 8, legend_top= \"8%\")\n",
    "pie_workYear = Pie(\"上海地区数据挖掘工作年限统计\", \"data from lagou\", title_pos='left', width=900)\n",
    "pie_workYear.add(\"工资\", get_workYear, count_workYear, center=[50, 50], is_legend_show=True, is_label_show=True)\n",
    "pie_workYear.render(path=\"上海地区’数据挖掘‘工作年限饼状图.html\")\n",
    "pie_salary"
   ]
  },
  {
   "cell_type": "code",
   "execution_count": null,
   "metadata": {},
   "outputs": [],
   "source": [
    "pie_workYear"
   ]
  },
  {
   "cell_type": "markdown",
   "metadata": {},
   "source": [
    "#### Draw the \"data mining\" word cloud in Shanghai area"
   ]
  },
  {
   "cell_type": "code",
   "execution_count": null,
   "metadata": {},
   "outputs": [],
   "source": [
    "text = ''\n",
    "counts = {}\n",
    "for i in range(len(data['skillLables'])):\n",
    "    content = data['skillLables'][i].strip()\n",
    "    text += content\n",
    "    tags = jieba.analyse.extract_tags(text, topK=100, withWeight=False)\n",
    "    for tag in tags:  # 遍历方法统计词频\n",
    "        if len(tag) == 1:\n",
    "            continue\n",
    "        else:\n",
    "            counts[tag] = counts.get(tag, 0) + 1\n",
    "count_skillLables = list(counts.values())\n",
    "get_skillLables = list(counts.keys())\n",
    "myWordCloud = WordCloud(\"绘制词云\", width=1000, height=620)\n",
    "myWordCloud.add(\"\", get_skillLables, count_skillLables, word_size_range=[20, 100])\n",
    "myWordCloud.render(path=\"上海地区’职业技能‘词云图.html\")\n",
    "myWordCloud"
   ]
  },
  {
   "cell_type": "code",
   "execution_count": null,
   "metadata": {},
   "outputs": [],
   "source": [
    "text = ''\n",
    "counts = {}\n",
    "for i in range(len(data['positionLables'])):\n",
    "    content = data['positionLables'][i].strip()\n",
    "    text += content\n",
    "    tags = jieba.analyse.extract_tags(text, topK=100, withWeight=False)\n",
    "    for tag in tags:  # 遍历方法统计词频\n",
    "        if len(tag) == 1:\n",
    "            continue\n",
    "        else:\n",
    "            counts[tag] = counts.get(tag, 0) + 1\n",
    "count_skillLables = list(counts.values())\n",
    "get_skillLables = list(counts.keys())\n",
    "myWordCloud = WordCloud(\"数据挖掘标签\", width=1000, height=620)\n",
    "myWordCloud.add(\"\", get_skillLables, count_skillLables, word_size_range=[20, 100])\n",
    "myWordCloud.render(path=\"上海地区’职位技能‘词云图.html\")\n",
    "myWordCloud"
   ]
  },
  {
   "cell_type": "code",
   "execution_count": null,
   "metadata": {},
   "outputs": [],
   "source": [
    "get_financeStage = data.groupby(['financeStage']).count()['positionName'].index.tolist()\n",
    "count_financeStage = data.groupby(['financeStage']).count()['positionName'].tolist()\n",
    "funnel = Funnel(\"融资阶段漏斗图\", width=1000, height=620)\n",
    "funnel.add(\"商品\", get_financeStage, count_financeStage, is_label_show=True, label_pos=\"inside\", label_text_color=\"#fff\")\n",
    "funnel.render()\n",
    "funnel"
   ]
  },
  {
   "cell_type": "code",
   "execution_count": null,
   "metadata": {},
   "outputs": [],
   "source": [
    "get_education = data.groupby(['education']).count()['positionName'].index.tolist()\n",
    "count_education = data.groupby(['education']).count()['positionName'].tolist()\n",
    "bar = Bar(\"数据挖掘学历分布\", \"来自拉勾\")\n",
    "bar.add(\"服装\", get_education, count_education)\n",
    "bar.render()\n",
    "bar"
   ]
  },
  {
   "cell_type": "code",
   "execution_count": null,
   "metadata": {},
   "outputs": [],
   "source": []
  }
 ],
 "metadata": {
  "kernelspec": {
   "display_name": "Python 3",
   "language": "python",
   "name": "python3"
  },
  "language_info": {
   "codemirror_mode": {
    "name": "ipython",
    "version": 3
   },
   "file_extension": ".py",
   "mimetype": "text/x-python",
   "name": "python",
   "nbconvert_exporter": "python",
   "pygments_lexer": "ipython3",
   "version": "3.6.6"
  }
 },
 "nbformat": 4,
 "nbformat_minor": 2
}
