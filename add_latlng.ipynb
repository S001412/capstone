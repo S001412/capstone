{
 "cells": [
  {
   "cell_type": "markdown",
   "metadata": {},
   "source": [
    "# Get data by BeautifulSoup"
   ]
  },
  {
   "cell_type": "code",
   "execution_count": 1,
   "metadata": {},
   "outputs": [],
   "source": [
    "from urllib.request import urlopen\n",
    "from bs4 import BeautifulSoup\n",
    "import re\n",
    "import random\n",
    "import datetime\n",
    "random.seed(datetime.datetime.now())"
   ]
  },
  {
   "cell_type": "code",
   "execution_count": 2,
   "metadata": {},
   "outputs": [],
   "source": [
    "url = \"https://en.wikipedia.org/wiki/List_of_postal_codes_of_Canada:_M\"\n",
    "html = urlopen(url).read()\n",
    "bs_obj = BeautifulSoup(html, 'html.parser')"
   ]
  },
  {
   "cell_type": "code",
   "execution_count": 3,
   "metadata": {},
   "outputs": [],
   "source": [
    "td_tag = bs_obj.find_all('td')\n",
    "c = 0\n",
    "a1,a2,a3 = [],[],[]\n",
    "while c < len(td_tag):\n",
    "    if td_tag[c].find('a'):\n",
    "        c += 1\n",
    "        continue\n",
    "    a1.append(td_tag[c].text)\n",
    "    a2.append(td_tag[c+1].text)\n",
    "    a3.append(td_tag[c+2].text.strip())\n",
    "    c += 3"
   ]
  },
  {
   "cell_type": "code",
   "execution_count": 4,
   "metadata": {},
   "outputs": [],
   "source": [
    "import pandas as pd\n",
    "c = {'PostCode':a1, 'Borough':a2, 'Neighbourhood':a3}\n",
    "df = pd.DataFrame(c)\n",
    "df.drop([288], inplace=True)"
   ]
  },
  {
   "cell_type": "code",
   "execution_count": 5,
   "metadata": {},
   "outputs": [
    {
     "data": {
      "text/html": [
       "<div>\n",
       "<style scoped>\n",
       "    .dataframe tbody tr th:only-of-type {\n",
       "        vertical-align: middle;\n",
       "    }\n",
       "\n",
       "    .dataframe tbody tr th {\n",
       "        vertical-align: top;\n",
       "    }\n",
       "\n",
       "    .dataframe thead th {\n",
       "        text-align: right;\n",
       "    }\n",
       "</style>\n",
       "<table border=\"1\" class=\"dataframe\">\n",
       "  <thead>\n",
       "    <tr style=\"text-align: right;\">\n",
       "      <th></th>\n",
       "      <th>PostCode</th>\n",
       "      <th>Borough</th>\n",
       "      <th>Neighbourhood</th>\n",
       "    </tr>\n",
       "  </thead>\n",
       "  <tbody>\n",
       "    <tr>\n",
       "      <th>0</th>\n",
       "      <td>M1A</td>\n",
       "      <td>Not assigned</td>\n",
       "      <td>Not assigned</td>\n",
       "    </tr>\n",
       "    <tr>\n",
       "      <th>1</th>\n",
       "      <td>M2A</td>\n",
       "      <td>Not assigned</td>\n",
       "      <td>Not assigned</td>\n",
       "    </tr>\n",
       "    <tr>\n",
       "      <th>2</th>\n",
       "      <td>M3A</td>\n",
       "      <td>North York</td>\n",
       "      <td>Parkwoods</td>\n",
       "    </tr>\n",
       "    <tr>\n",
       "      <th>3</th>\n",
       "      <td>M4A</td>\n",
       "      <td>North York</td>\n",
       "      <td>Victoria Village</td>\n",
       "    </tr>\n",
       "    <tr>\n",
       "      <th>4</th>\n",
       "      <td>M5A</td>\n",
       "      <td>Downtown Toronto</td>\n",
       "      <td>Harbourfront</td>\n",
       "    </tr>\n",
       "  </tbody>\n",
       "</table>\n",
       "</div>"
      ],
      "text/plain": [
       "  PostCode           Borough     Neighbourhood\n",
       "0      M1A      Not assigned      Not assigned\n",
       "1      M2A      Not assigned      Not assigned\n",
       "2      M3A        North York         Parkwoods\n",
       "3      M4A        North York  Victoria Village\n",
       "4      M5A  Downtown Toronto      Harbourfront"
      ]
     },
     "execution_count": 5,
     "metadata": {},
     "output_type": "execute_result"
    }
   ],
   "source": [
    "df.head()"
   ]
  },
  {
   "cell_type": "code",
   "execution_count": 6,
   "metadata": {},
   "outputs": [
    {
     "data": {
      "text/plain": [
       "(288, 3)"
      ]
     },
     "execution_count": 6,
     "metadata": {},
     "output_type": "execute_result"
    }
   ],
   "source": [
    "df.shape"
   ]
  },
  {
   "cell_type": "markdown",
   "metadata": {},
   "source": [
    "# Get the latitude and the longitude"
   ]
  },
  {
   "cell_type": "code",
   "execution_count": 7,
   "metadata": {},
   "outputs": [],
   "source": [
    "# !conda install -c conda-forge geocoder\n",
    "# import geocoder # import geocoder\n",
    "\n",
    "# def get_lat_lng(postal_code):\n",
    "#     # initialize your variable to None\n",
    "#     lat_lng_coords = None\n",
    "\n",
    "#     # loop until you get the coordinates\n",
    "#     while(lat_lng_coords is None):\n",
    "#         g = geocoder.google('{}, Toronto, Ontario'.format(postal_code))\n",
    "#         lat_lng_coords = g.latlng\n",
    "#     return lat_lng_coords"
   ]
  },
  {
   "cell_type": "markdown",
   "metadata": {},
   "source": [
    "# Get Geospatial Data"
   ]
  },
  {
   "cell_type": "code",
   "execution_count": 8,
   "metadata": {},
   "outputs": [
    {
     "name": "stdout",
     "output_type": "stream",
     "text": [
      "--2019-11-11 11:45:51--  http://cocl.us/Geospatial_data\n",
      "Resolving cocl.us (cocl.us)... 169.48.113.194\n",
      "Connecting to cocl.us (cocl.us)|169.48.113.194|:80... connected.\n",
      "HTTP request sent, awaiting response... 301 Moved Permanently\n",
      "Location: https://cocl.us/Geospatial_data [following]\n",
      "--2019-11-11 11:45:51--  https://cocl.us/Geospatial_data\n",
      "Connecting to cocl.us (cocl.us)|169.48.113.194|:443... connected.\n",
      "HTTP request sent, awaiting response... 301 Moved Permanently\n",
      "Location: https://ibm.box.com/shared/static/9afzr83pps4pwf2smjjcf1y5mvgb18rr.csv [following]\n",
      "--2019-11-11 11:45:54--  https://ibm.box.com/shared/static/9afzr83pps4pwf2smjjcf1y5mvgb18rr.csv\n",
      "Resolving ibm.box.com (ibm.box.com)... 185.235.236.197\n",
      "Connecting to ibm.box.com (ibm.box.com)|185.235.236.197|:443... connected.\n",
      "HTTP request sent, awaiting response... 301 Moved Permanently\n",
      "Location: /public/static/9afzr83pps4pwf2smjjcf1y5mvgb18rr.csv [following]\n",
      "--2019-11-11 11:45:54--  https://ibm.box.com/public/static/9afzr83pps4pwf2smjjcf1y5mvgb18rr.csv\n",
      "Reusing existing connection to ibm.box.com:443.\n",
      "HTTP request sent, awaiting response... 301 Moved Permanently\n",
      "Location: https://ibm.ent.box.com/public/static/9afzr83pps4pwf2smjjcf1y5mvgb18rr.csv [following]\n",
      "--2019-11-11 11:45:55--  https://ibm.ent.box.com/public/static/9afzr83pps4pwf2smjjcf1y5mvgb18rr.csv\n",
      "Resolving ibm.ent.box.com (ibm.ent.box.com)... 185.235.236.211\n",
      "Connecting to ibm.ent.box.com (ibm.ent.box.com)|185.235.236.211|:443... connected.\n",
      "HTTP request sent, awaiting response... 302 Found\n",
      "Location: https://public.boxcloud.com/d/1/b1!hU9gbNa6ovE9yzzZHZPhPcdcBEjvcZADOieuIj591aEqyPThp5yEg7tAod-6ZHjig-7EVZMHJ-94XrcFV-kJ-ZtCgiUId8BxjgZdA0QS7t5On46S74ybigiUQ4Hiwyzd10N4ICR-ljXIzX5gNzqQy1F66e_80GKD59T56OiI1tIo9O1wtGy3xCuk5WXKAmJAzSeLlp05XsIeDecWeaPyDqTADjCVTsXi1WDjzN-YsGQ_-vjOlHkv9Yk1B7c5_9jFqmE6pUVvaxMKZPNLLEDlFX6K_zdTiO413U_irEfN-uc54xaud3dRT3Y2bLCuc2MjoVJqlBdpyP-8t-PT1115_kQugbG7vniWO9It-q_HWjf3YbOsXTI-trkJtu8toGDSvbq5lWEPbRczAbD0BVToOQ7psWR9Xm0LblwyY4fY4y5cduW6z9jAybwsi53FBQZ5nsegkg3AE88z_4Fye-s1p6wlbSEjVFLtBg5YjOfQhCfBmyZv3VmErNmclTNe141_de2wYlz7D8SLdfUqkoplbmzg0v8Mzq5A8k6obfwrFlgfiigVsOUafnFebGoYiiS-Xal43BK_RRGR_SBZFOB7XtvqqqAGa7WkPspbp-1_X_ktAhuXs31rJV_7exGGgL6XL9_C1keZpVhyNiuzGJIc3VCYPTSlY1F8iDGHe0S8WLFzFyrGPCUpNbq_yKBh-1inPQ_pqrpgeoDltS9eFK0IJkKNxZbiYdGj2rmIMCRWR7CyHPf4ovCuhhsAXBPTfMz9ccAS1GdqAox0r7Cy7hHQYToByjaIgz5p19WbNhMWE-nT1LZlWty2oHsNt3WMLk8vQvsEe6LsR9b5rqDGy0jBOAhoYgBJAyLiHBnJnk-PRuVRDbuM_neDuaNaVt30FSGEEl6qqt1UfrQKtuGcX_uxDMo_uJu1WjcBjLGQmlRh88rh8PTudQ2jPyxQoVNX5vxJAr_IFfF2otGoKZkWEkYgjjDVXuy47FTQrN2jgWYzKzITKilf2zRGGgwU9PYotwp1IiBnjHddBvWO-MD2qJRv3-PnpuY8M349EDx6hOCQGIrukmpsuVhgpslU_JP0zrcZKZe1-1oBx92kAJbvyQkePsj79NukkzOox2dhbFKtWiqf3lB8Z0vqZMDmU5eAj4Aglrqtjdrn7KgyJHBxa5wxihczI3UKoNHyp4_WF54FeFj17VUy5pFx91UWEjIM7O16lpKSmbFaq2BUwkL4vZWpy_b8j_C7V9mjUAvOIl5d3fkY-birt4-VAZD0VHuRXG6iXJE7g5qB4NJpZPtAl2uDKsDoZii09TzSll7YzM69GiDSuv-UCmlYHtwMiF3UOEoTkDaj7F4tZXST5s_Af2aYZ_oD9L7qUvytvyvrV6vvZP_O_fmIIgqCst93lUQ1/download [following]\n",
      "--2019-11-11 11:45:56--  https://public.boxcloud.com/d/1/b1!hU9gbNa6ovE9yzzZHZPhPcdcBEjvcZADOieuIj591aEqyPThp5yEg7tAod-6ZHjig-7EVZMHJ-94XrcFV-kJ-ZtCgiUId8BxjgZdA0QS7t5On46S74ybigiUQ4Hiwyzd10N4ICR-ljXIzX5gNzqQy1F66e_80GKD59T56OiI1tIo9O1wtGy3xCuk5WXKAmJAzSeLlp05XsIeDecWeaPyDqTADjCVTsXi1WDjzN-YsGQ_-vjOlHkv9Yk1B7c5_9jFqmE6pUVvaxMKZPNLLEDlFX6K_zdTiO413U_irEfN-uc54xaud3dRT3Y2bLCuc2MjoVJqlBdpyP-8t-PT1115_kQugbG7vniWO9It-q_HWjf3YbOsXTI-trkJtu8toGDSvbq5lWEPbRczAbD0BVToOQ7psWR9Xm0LblwyY4fY4y5cduW6z9jAybwsi53FBQZ5nsegkg3AE88z_4Fye-s1p6wlbSEjVFLtBg5YjOfQhCfBmyZv3VmErNmclTNe141_de2wYlz7D8SLdfUqkoplbmzg0v8Mzq5A8k6obfwrFlgfiigVsOUafnFebGoYiiS-Xal43BK_RRGR_SBZFOB7XtvqqqAGa7WkPspbp-1_X_ktAhuXs31rJV_7exGGgL6XL9_C1keZpVhyNiuzGJIc3VCYPTSlY1F8iDGHe0S8WLFzFyrGPCUpNbq_yKBh-1inPQ_pqrpgeoDltS9eFK0IJkKNxZbiYdGj2rmIMCRWR7CyHPf4ovCuhhsAXBPTfMz9ccAS1GdqAox0r7Cy7hHQYToByjaIgz5p19WbNhMWE-nT1LZlWty2oHsNt3WMLk8vQvsEe6LsR9b5rqDGy0jBOAhoYgBJAyLiHBnJnk-PRuVRDbuM_neDuaNaVt30FSGEEl6qqt1UfrQKtuGcX_uxDMo_uJu1WjcBjLGQmlRh88rh8PTudQ2jPyxQoVNX5vxJAr_IFfF2otGoKZkWEkYgjjDVXuy47FTQrN2jgWYzKzITKilf2zRGGgwU9PYotwp1IiBnjHddBvWO-MD2qJRv3-PnpuY8M349EDx6hOCQGIrukmpsuVhgpslU_JP0zrcZKZe1-1oBx92kAJbvyQkePsj79NukkzOox2dhbFKtWiqf3lB8Z0vqZMDmU5eAj4Aglrqtjdrn7KgyJHBxa5wxihczI3UKoNHyp4_WF54FeFj17VUy5pFx91UWEjIM7O16lpKSmbFaq2BUwkL4vZWpy_b8j_C7V9mjUAvOIl5d3fkY-birt4-VAZD0VHuRXG6iXJE7g5qB4NJpZPtAl2uDKsDoZii09TzSll7YzM69GiDSuv-UCmlYHtwMiF3UOEoTkDaj7F4tZXST5s_Af2aYZ_oD9L7qUvytvyvrV6vvZP_O_fmIIgqCst93lUQ1/download\n",
      "Resolving public.boxcloud.com (public.boxcloud.com)... 185.235.236.200\n",
      "Connecting to public.boxcloud.com (public.boxcloud.com)|185.235.236.200|:443... connected.\n",
      "HTTP request sent, awaiting response... 200 OK\n",
      "Length: 2891 (2.8K) [text/csv]\n",
      "Saving to: ‘Geospatial_data’\n",
      "\n",
      "100%[======================================>] 2,891       --.-K/s   in 0s      \n",
      "\n",
      "2019-11-11 11:45:56 (238 MB/s) - ‘Geospatial_data’ saved [2891/2891]\n",
      "\n"
     ]
    },
    {
     "data": {
      "text/plain": [
       "['Geospatial_data']"
      ]
     },
     "execution_count": 8,
     "metadata": {},
     "output_type": "execute_result"
    }
   ],
   "source": [
    "import os\n",
    "!wget http://cocl.us/Geospatial_data\n",
    "os.listdir()"
   ]
  },
  {
   "cell_type": "code",
   "execution_count": 9,
   "metadata": {},
   "outputs": [
    {
     "data": {
      "text/html": [
       "<div>\n",
       "<style scoped>\n",
       "    .dataframe tbody tr th:only-of-type {\n",
       "        vertical-align: middle;\n",
       "    }\n",
       "\n",
       "    .dataframe tbody tr th {\n",
       "        vertical-align: top;\n",
       "    }\n",
       "\n",
       "    .dataframe thead th {\n",
       "        text-align: right;\n",
       "    }\n",
       "</style>\n",
       "<table border=\"1\" class=\"dataframe\">\n",
       "  <thead>\n",
       "    <tr style=\"text-align: right;\">\n",
       "      <th></th>\n",
       "      <th>Postal Code</th>\n",
       "      <th>Latitude</th>\n",
       "      <th>Longitude</th>\n",
       "    </tr>\n",
       "  </thead>\n",
       "  <tbody>\n",
       "    <tr>\n",
       "      <th>0</th>\n",
       "      <td>M1B</td>\n",
       "      <td>43.806686</td>\n",
       "      <td>-79.194353</td>\n",
       "    </tr>\n",
       "    <tr>\n",
       "      <th>1</th>\n",
       "      <td>M1C</td>\n",
       "      <td>43.784535</td>\n",
       "      <td>-79.160497</td>\n",
       "    </tr>\n",
       "    <tr>\n",
       "      <th>2</th>\n",
       "      <td>M1E</td>\n",
       "      <td>43.763573</td>\n",
       "      <td>-79.188711</td>\n",
       "    </tr>\n",
       "    <tr>\n",
       "      <th>3</th>\n",
       "      <td>M1G</td>\n",
       "      <td>43.770992</td>\n",
       "      <td>-79.216917</td>\n",
       "    </tr>\n",
       "    <tr>\n",
       "      <th>4</th>\n",
       "      <td>M1H</td>\n",
       "      <td>43.773136</td>\n",
       "      <td>-79.239476</td>\n",
       "    </tr>\n",
       "  </tbody>\n",
       "</table>\n",
       "</div>"
      ],
      "text/plain": [
       "  Postal Code   Latitude  Longitude\n",
       "0         M1B  43.806686 -79.194353\n",
       "1         M1C  43.784535 -79.160497\n",
       "2         M1E  43.763573 -79.188711\n",
       "3         M1G  43.770992 -79.216917\n",
       "4         M1H  43.773136 -79.239476"
      ]
     },
     "execution_count": 9,
     "metadata": {},
     "output_type": "execute_result"
    }
   ],
   "source": [
    "geo_df = pd.read_csv('Geospatial_data')\n",
    "geo_df.head()"
   ]
  },
  {
   "cell_type": "code",
   "execution_count": 21,
   "metadata": {},
   "outputs": [
    {
     "data": {
      "text/html": [
       "<div>\n",
       "<style scoped>\n",
       "    .dataframe tbody tr th:only-of-type {\n",
       "        vertical-align: middle;\n",
       "    }\n",
       "\n",
       "    .dataframe tbody tr th {\n",
       "        vertical-align: top;\n",
       "    }\n",
       "\n",
       "    .dataframe thead th {\n",
       "        text-align: right;\n",
       "    }\n",
       "</style>\n",
       "<table border=\"1\" class=\"dataframe\">\n",
       "  <thead>\n",
       "    <tr style=\"text-align: right;\">\n",
       "      <th></th>\n",
       "      <th>PostCode</th>\n",
       "      <th>Latitude</th>\n",
       "      <th>Longitude</th>\n",
       "    </tr>\n",
       "  </thead>\n",
       "  <tbody>\n",
       "    <tr>\n",
       "      <th>0</th>\n",
       "      <td>M1B</td>\n",
       "      <td>43.806686</td>\n",
       "      <td>-79.194353</td>\n",
       "    </tr>\n",
       "    <tr>\n",
       "      <th>1</th>\n",
       "      <td>M1C</td>\n",
       "      <td>43.784535</td>\n",
       "      <td>-79.160497</td>\n",
       "    </tr>\n",
       "    <tr>\n",
       "      <th>2</th>\n",
       "      <td>M1E</td>\n",
       "      <td>43.763573</td>\n",
       "      <td>-79.188711</td>\n",
       "    </tr>\n",
       "    <tr>\n",
       "      <th>3</th>\n",
       "      <td>M1G</td>\n",
       "      <td>43.770992</td>\n",
       "      <td>-79.216917</td>\n",
       "    </tr>\n",
       "    <tr>\n",
       "      <th>4</th>\n",
       "      <td>M1H</td>\n",
       "      <td>43.773136</td>\n",
       "      <td>-79.239476</td>\n",
       "    </tr>\n",
       "  </tbody>\n",
       "</table>\n",
       "</div>"
      ],
      "text/plain": [
       "  PostCode   Latitude  Longitude\n",
       "0      M1B  43.806686 -79.194353\n",
       "1      M1C  43.784535 -79.160497\n",
       "2      M1E  43.763573 -79.188711\n",
       "3      M1G  43.770992 -79.216917\n",
       "4      M1H  43.773136 -79.239476"
      ]
     },
     "execution_count": 21,
     "metadata": {},
     "output_type": "execute_result"
    }
   ],
   "source": [
    "\n",
    "geo_df.rename(columns={\"Postal Code\": \"PostCode\"}, inplace=True)\n",
    "geo_df.head()"
   ]
  },
  {
   "cell_type": "code",
   "execution_count": 26,
   "metadata": {},
   "outputs": [
    {
     "data": {
      "text/html": [
       "<div>\n",
       "<style scoped>\n",
       "    .dataframe tbody tr th:only-of-type {\n",
       "        vertical-align: middle;\n",
       "    }\n",
       "\n",
       "    .dataframe tbody tr th {\n",
       "        vertical-align: top;\n",
       "    }\n",
       "\n",
       "    .dataframe thead th {\n",
       "        text-align: right;\n",
       "    }\n",
       "</style>\n",
       "<table border=\"1\" class=\"dataframe\">\n",
       "  <thead>\n",
       "    <tr style=\"text-align: right;\">\n",
       "      <th></th>\n",
       "      <th>PostCode</th>\n",
       "      <th>Borough</th>\n",
       "      <th>Neighbourhood</th>\n",
       "      <th>Latitude</th>\n",
       "      <th>Longitude</th>\n",
       "    </tr>\n",
       "  </thead>\n",
       "  <tbody>\n",
       "    <tr>\n",
       "      <th>0</th>\n",
       "      <td>M3A</td>\n",
       "      <td>North York</td>\n",
       "      <td>Parkwoods</td>\n",
       "      <td>43.753259</td>\n",
       "      <td>-79.329656</td>\n",
       "    </tr>\n",
       "    <tr>\n",
       "      <th>1</th>\n",
       "      <td>M4A</td>\n",
       "      <td>North York</td>\n",
       "      <td>Victoria Village</td>\n",
       "      <td>43.725882</td>\n",
       "      <td>-79.315572</td>\n",
       "    </tr>\n",
       "    <tr>\n",
       "      <th>2</th>\n",
       "      <td>M5A</td>\n",
       "      <td>Downtown Toronto</td>\n",
       "      <td>Harbourfront</td>\n",
       "      <td>43.654260</td>\n",
       "      <td>-79.360636</td>\n",
       "    </tr>\n",
       "    <tr>\n",
       "      <th>3</th>\n",
       "      <td>M5A</td>\n",
       "      <td>Downtown Toronto</td>\n",
       "      <td>Regent Park</td>\n",
       "      <td>43.654260</td>\n",
       "      <td>-79.360636</td>\n",
       "    </tr>\n",
       "    <tr>\n",
       "      <th>4</th>\n",
       "      <td>M6A</td>\n",
       "      <td>North York</td>\n",
       "      <td>Lawrence Heights</td>\n",
       "      <td>43.718518</td>\n",
       "      <td>-79.464763</td>\n",
       "    </tr>\n",
       "  </tbody>\n",
       "</table>\n",
       "</div>"
      ],
      "text/plain": [
       "  PostCode           Borough     Neighbourhood   Latitude  Longitude\n",
       "0      M3A        North York         Parkwoods  43.753259 -79.329656\n",
       "1      M4A        North York  Victoria Village  43.725882 -79.315572\n",
       "2      M5A  Downtown Toronto      Harbourfront  43.654260 -79.360636\n",
       "3      M5A  Downtown Toronto       Regent Park  43.654260 -79.360636\n",
       "4      M6A        North York  Lawrence Heights  43.718518 -79.464763"
      ]
     },
     "execution_count": 26,
     "metadata": {},
     "output_type": "execute_result"
    }
   ],
   "source": [
    "data = pd.merge(df, geo_df, how='right', on='PostCode')\n",
    "data.head()"
   ]
  },
  {
   "cell_type": "code",
   "execution_count": null,
   "metadata": {},
   "outputs": [],
   "source": [
    "# create map of New York using latitude and longitude values\n",
    "map_newyork = folium.Map(location=[latitude, longitude], zoom_start=10)\n",
    "\n",
    "# add markers to map\n",
    "for lat, lng, borough, neighborhood in zip(neighborhoods['Latitude'], neighborhoods['Longitude'], neighborhoods['Borough'], neighborhoods['Neighborhood']):\n",
    "    label = '{}, {}'.format(neighborhood, borough)\n",
    "    label = folium.Popup(label, parse_html=True)\n",
    "    folium.CircleMarker(\n",
    "        [lat, lng],\n",
    "        radius=5,\n",
    "        popup=label,\n",
    "        color='blue',\n",
    "        fill=True,\n",
    "        fill_color='#3186cc',\n",
    "        fill_opacity=0.7,\n",
    "        parse_html=False).add_to(map_newyork)  \n",
    "    \n",
    "map_newyork"
   ]
  },
  {
   "cell_type": "code",
   "execution_count": null,
   "metadata": {},
   "outputs": [],
   "source": [
    "manhattan_data = neighborhoods[neighborhoods['Borough'] == 'Manhattan'].reset_index(drop=True)\n",
    "manhattan_data.head()"
   ]
  },
  {
   "cell_type": "code",
   "execution_count": null,
   "metadata": {},
   "outputs": [],
   "source": [
    "address = 'Manhattan, NY'\n",
    "\n",
    "geolocator = Nominatim(user_agent=\"ny_explorer\")\n",
    "location = geolocator.geocode(address)\n",
    "latitude = location.latitude\n",
    "longitude = location.longitude\n",
    "print('The geograpical coordinate of Manhattan are {}, {}.'.format(latitude, longitude))"
   ]
  },
  {
   "cell_type": "code",
   "execution_count": null,
   "metadata": {},
   "outputs": [],
   "source": [
    "# create map of Manhattan using latitude and longitude values\n",
    "map_manhattan = folium.Map(location=[latitude, longitude], zoom_start=11)\n",
    "\n",
    "# add markers to map\n",
    "for lat, lng, label in zip(manhattan_data['Latitude'], manhattan_data['Longitude'], manhattan_data['Neighborhood']):\n",
    "    label = folium.Popup(label, parse_html=True)\n",
    "    folium.CircleMarker(\n",
    "        [lat, lng],\n",
    "        radius=5,\n",
    "        popup=label,\n",
    "        color='blue',\n",
    "        fill=True,\n",
    "        fill_color='#3186cc',\n",
    "        fill_opacity=0.7,\n",
    "        parse_html=False).add_to(map_manhattan)  \n",
    "    \n",
    "map_manhattan"
   ]
  },
  {
   "cell_type": "code",
   "execution_count": null,
   "metadata": {},
   "outputs": [],
   "source": [
    "# one hot encoding\n",
    "manhattan_onehot = pd.get_dummies(manhattan_venues[['Venue Category']], prefix=\"\", prefix_sep=\"\")\n",
    "\n",
    "# add neighborhood column back to dataframe\n",
    "manhattan_onehot['Neighborhood'] = manhattan_venues['Neighborhood'] \n",
    "\n",
    "# move neighborhood column to the first column\n",
    "fixed_columns = [manhattan_onehot.columns[-1]] + list(manhattan_onehot.columns[:-1])\n",
    "manhattan_onehot = manhattan_onehot[fixed_columns]\n",
    "\n",
    "manhattan_onehot.head()"
   ]
  },
  {
   "cell_type": "code",
   "execution_count": null,
   "metadata": {},
   "outputs": [],
   "source": [
    "manhattan_onehot.shape\n",
    "manhattan_grouped = manhattan_onehot.groupby('Neighborhood').mean().reset_index()\n",
    "manhattan_grouped\n",
    "manhattan_grouped.shape"
   ]
  },
  {
   "cell_type": "code",
   "execution_count": null,
   "metadata": {},
   "outputs": [],
   "source": [
    "num_top_venues = 5\n",
    "\n",
    "for hood in manhattan_grouped['Neighborhood']:\n",
    "    print(\"----\"+hood+\"----\")\n",
    "    temp = manhattan_grouped[manhattan_grouped['Neighborhood'] == hood].T.reset_index()\n",
    "    temp.columns = ['venue','freq']\n",
    "    temp = temp.iloc[1:]\n",
    "    temp['freq'] = temp['freq'].astype(float)\n",
    "    temp = temp.round({'freq': 2})\n",
    "    print(temp.sort_values('freq', ascending=False).reset_index(drop=True).head(num_top_venues))\n",
    "    print('\\n')"
   ]
  }
 ],
 "metadata": {
  "kernelspec": {
   "display_name": "Python 3.6",
   "language": "python",
   "name": "python3"
  },
  "language_info": {
   "codemirror_mode": {
    "name": "ipython",
    "version": 3
   },
   "file_extension": ".py",
   "mimetype": "text/x-python",
   "name": "python",
   "nbconvert_exporter": "python",
   "pygments_lexer": "ipython3",
   "version": "3.6.8"
  }
 },
 "nbformat": 4,
 "nbformat_minor": 1
}
