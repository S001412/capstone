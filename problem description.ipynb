{
 "cells": [
  {
   "cell_type": "markdown",
   "metadata": {},
   "source": [
    "# Job information analysis of data mining related positions in various communities in Shanghai"
   ]
  },
  {
   "cell_type": "markdown",
   "metadata": {},
   "source": [
    "## Brief Introduction"
   ]
  },
  {
   "cell_type": "markdown",
   "metadata": {},
   "source": [
    "### Part 1: Problem Description"
   ]
  },
  {
   "cell_type": "markdown",
   "metadata": {},
   "source": [
    "Both  New York City and the Toronto are very diverse and are the financial capitals of their respective countries. As the economic center of China, Shanghai provides rich employment opportunities. But in Shanghai, will the same job pay differently in different regions?\n",
    "For example, when a person comes to Shanghai making a living for the first time, he needs to understand the geographical information and position situation in Shanghai, including the occupation he expects to engage in, which companies can provide relevant positions, and the company's treatment and salary. So, I want to take the **Data Analyst** as an example to explore the relationship between the salary situation and the geographical location of Shanghai, and help new people to choose their favorite job."
   ]
  },
  {
   "cell_type": "markdown",
   "metadata": {},
   "source": [
    "### Part 2: Data We Need"
   ]
  },
  {
   "cell_type": "markdown",
   "metadata": {},
   "source": [
    "1. We need information about salary of data mining positions in a region and geographic location of Companies in the region. Technically speaking, geographical location refers to the longitude and latitude of that administrative region. Let's assume it's Shanghai, China. In fact, we will first find Shanghai, China, and Shanghai districts such as Songjiang District and Huangpu District through the corresponding postal code, and map them with the company"
   ]
  },
  {
   "cell_type": "markdown",
   "metadata": {},
   "source": [
    "2. We need data on data mining jobs provided by different companies in different communities in the region. To get this information, we will use the \"foursquare\" location information. The location information of each venue refers to the basic and advanced information of the company. For example, one of the communities has a company. As the basic information, we can get its precise latitude and longitude as well as its distance from the neighborhood center. At the same time, we crawled the relevant specific information about data mining positions in Shanghai from the well-known domestic job search website, lago.com"
   ]
  },
  {
   "cell_type": "markdown",
   "metadata": {},
   "source": [
    "## Main Article"
   ]
  },
  {
   "cell_type": "markdown",
   "metadata": {},
   "source": [
    "### Part 1: Identifying Neighborhoods inside \"Shanghai\""
   ]
  },
  {
   "cell_type": "markdown",
   "metadata": {},
   "source": [
    "We will use Postal Codes of different regions inside Shanghai to find the list of neighborhoods. We will essentially obtain our information from https://baike.baidu.com/item/%E4%B8%8A%E6%B5%B7%E8%A1%8C%E6%94%BF%E5%8C%BA%E5%88%92/7426389?fromtitle=%E4%B8%8A%E6%B5%B7%E5%B8%82%E8%A1%8C%E6%94%BF%E5%8C%BA%E5%88%92&fromid=14709174and then process the table inside this site. Images from dataframes and also from maps will be provided in the presentation. Here we only present our strategy and how we got the mission accomplished."
   ]
  },
  {
   "cell_type": "markdown",
   "metadata": {},
   "source": [
    "### Part 2: Connecting to Foursquare and Retrieving Locational Data for Each Venue in Every Neighborhood"
   ]
  },
  {
   "cell_type": "markdown",
   "metadata": {},
   "source": [
    "After finding the list of neighborhoods, we then connect to the Foursquare API to gather information about venues inside each and every neighborhood. For each neighborhood, we have chosen the radius to be 1000 meter. It means that we have asked Foursquare to find venues that are at most 1000 meter far from the center of the neighborhood. (I think distance is measured by latitude and longitude of venues and neighborhoods, and it is not the walking distance for venues.)"
   ]
  },
  {
   "cell_type": "markdown",
   "metadata": {},
   "source": [
    "### Part 3: Collecting the position related data of the crawler on the pull hook, sort out and clean the data"
   ]
  },
  {
   "cell_type": "markdown",
   "metadata": {},
   "source": [
    "In the process of crawling, we encounter the anti crawling mechanism of the website. After logging in, we intercept the header information, and use session to store parameters across functions. At the same time, after crawling one page of position information, we stop crawling information for a period of time. Finally, the information is stored as a data frame format and output as a CSV document. According to the position keywords, the information of interns and unrelated positions is removed for data cleaning, and the community where the position is located corresponds to the community information obtained before"
   ]
  },
  {
   "cell_type": "markdown",
   "metadata": {},
   "source": [
    "### Part 4: Data visualization and data analysis"
   ]
  },
  {
   "cell_type": "markdown",
   "metadata": {},
   "source": [
    "Visual analysis of the data, analysis of the salary range of data mining, requirements for education and salary, and use machine learning method to analyze the frequency of job description words, find out the key words of the position, and finally analyze the relationship between different communities and the characteristics of the position salary"
   ]
  },
  {
   "cell_type": "code",
   "execution_count": null,
   "metadata": {},
   "outputs": [],
   "source": []
  }
 ],
 "metadata": {
  "kernelspec": {
   "display_name": "Python 3",
   "language": "python",
   "name": "python3"
  },
  "language_info": {
   "codemirror_mode": {
    "name": "ipython",
    "version": 3
   },
   "file_extension": ".py",
   "mimetype": "text/x-python",
   "name": "python",
   "nbconvert_exporter": "python",
   "pygments_lexer": "ipython3",
   "version": "3.7.4"
  }
 },
 "nbformat": 4,
 "nbformat_minor": 2
}
