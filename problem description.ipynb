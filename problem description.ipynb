{
 "cells": [
  {
   "cell_type": "markdown",
   "metadata": {},
   "source": [
    "# Job information analysis of data mining related positions in various communities in Shanghai"
   ]
  },
  {
   "cell_type": "markdown",
   "metadata": {},
   "source": [
    "## Brief Introduction"
   ]
  },
  {
   "cell_type": "markdown",
   "metadata": {},
   "source": [
    "### Part 1: Problem Description"
   ]
  },
  {
   "cell_type": "markdown",
   "metadata": {},
   "source": [
    "Both  New York City and the Toronto are very diverse and are the financial capitals of their respective countries. As the economic center of China, Shanghai provides rich employment opportunities. But in Shanghai, will the same job pay differently in different regions?\n",
    "For example, when a person comes to Shanghai making a living for the first time, he needs to understand the geographical information and position situation in Shanghai, including the occupation he expects to engage in, which companies can provide relevant positions, and the company's treatment and salary. So, I want to take the **Data Analyst** as an example to explore the relationship between the salary situation and the geographical location of Shanghai, and help new people to choose their favorite job."
   ]
  },
  {
   "cell_type": "markdown",
   "metadata": {},
   "source": [
    "### Part 2: Data We Need"
   ]
  },
  {
   "cell_type": "markdown",
   "metadata": {},
   "source": [
    "1. We need information about salary of data mining positions in a region and geographic location of Companies in the region. Technically speaking, geographical location refers to the longitude and latitude of that administrative region. Let's assume it's Shanghai, China. In fact, we will first find Shanghai, China, and Shanghai districts such as Songjiang District and Huangpu District through the corresponding postal code, and map them with the company"
   ]
  },
  {
   "cell_type": "markdown",
   "metadata": {},
   "source": [
    "2. We need data on data mining jobs provided by different companies in different communities in the region. To get this information, we will use the \"foursquare\" location information. The location information of each venue refers to the basic and advanced information of the company. For example, one of the communities has a company. As the basic information, we can get its precise latitude and longitude as well as its distance from the neighborhood center. At the same time, we crawled the relevant specific information about data mining positions in Shanghai from the well-known domestic job search website, lago.com"
   ]
  }
 ],
 "metadata": {
  "kernelspec": {
   "display_name": "Python 3",
   "language": "python",
   "name": "python3"
  },
  "language_info": {
   "codemirror_mode": {
    "name": "ipython",
    "version": 3
   },
   "file_extension": ".py",
   "mimetype": "text/x-python",
   "name": "python",
   "nbconvert_exporter": "python",
   "pygments_lexer": "ipython3",
   "version": "3.6.6"
  }
 },
 "nbformat": 4,
 "nbformat_minor": 2
}
